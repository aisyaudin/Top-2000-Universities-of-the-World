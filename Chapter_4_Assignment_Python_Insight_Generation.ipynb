{
  "nbformat": 4,
  "nbformat_minor": 0,
  "metadata": {
    "colab": {
      "provenance": [],
      "include_colab_link": true
    },
    "kernelspec": {
      "name": "python3",
      "display_name": "Python 3"
    },
    "language_info": {
      "name": "python"
    }
  },
  "cells": [
    {
      "cell_type": "markdown",
      "metadata": {
        "id": "view-in-github",
        "colab_type": "text"
      },
      "source": [
        "<a href=\"https://colab.research.google.com/github/aisyaudin/Top-2000-Universities-of-the-World/blob/main/Chapter_4_Assignment_Python_Insight_Generation.ipynb\" target=\"_parent\"><img src=\"https://colab.research.google.com/assets/colab-badge.svg\" alt=\"Open In Colab\"/></a>"
      ]
    },
    {
      "cell_type": "markdown",
      "source": [
        "# Chapter 4 Assignment - Python Insight Generation"
      ],
      "metadata": {
        "id": "cEqxXzTd3u5n"
      }
    },
    {
      "cell_type": "code",
      "source": [
        "from google.colab import drive\n",
        "drive.mount('/content/drive')"
      ],
      "metadata": {
        "id": "d_kuqLg_SdGj",
        "colab": {
          "base_uri": "https://localhost:8080/"
        },
        "outputId": "95af9e07-b1e8-41a4-f21b-e3770792c381"
      },
      "execution_count": null,
      "outputs": [
        {
          "output_type": "stream",
          "name": "stdout",
          "text": [
            "Drive already mounted at /content/drive; to attempt to forcibly remount, call drive.mount(\"/content/drive\", force_remount=True).\n"
          ]
        }
      ]
    },
    {
      "cell_type": "markdown",
      "source": [
        "#Import your Dataset "
      ],
      "metadata": {
        "id": "zOoy5Nt8cOq3"
      }
    },
    {
      "cell_type": "markdown",
      "source": [
        "1.   Copy the dataset 'Top 2000 Universities of the World.csv' on your drive.\n",
        "2.   You need to mount your drive, for reference please refer to lecture video\n",
        "3.   Copy the path of dataset from your drive and replace with the path given in read_csv('*insert path here*', encoding='utf-8', encoding_errors='replace') function below\n",
        "\n"
      ],
      "metadata": {
        "id": "G2zI6nAFrkt1"
      }
    },
    {
      "cell_type": "code",
      "execution_count": null,
      "metadata": {
        "id": "P7Tnnmq-3e8s"
      },
      "outputs": [],
      "source": [
        "import pandas as pd\n",
        "uni = pd.read_csv(\"/content/drive/MyDrive/Top 2000 Universities of the World.csv\",  encoding='utf-8', encoding_errors='replace')\n",
        "#(\"/content/Dataset - Top 2000 universities of the world.csv\")"
      ]
    },
    {
      "cell_type": "markdown",
      "source": [
        "## Question 1\n"
      ],
      "metadata": {
        "id": "eSOmf2bkhc5J"
      }
    },
    {
      "cell_type": "markdown",
      "source": [
        "Verify that your data set does not include NA, Nulls or any other values which would need the data preprocessing"
      ],
      "metadata": {
        "id": "aYkePiLDLovl"
      }
    },
    {
      "cell_type": "code",
      "execution_count": null,
      "metadata": {
        "id": "EJXF6G7KG2Ii",
        "colab": {
          "base_uri": "https://localhost:8080/"
        },
        "outputId": "6282febe-2910-40e6-999d-2ec82e80e577"
      },
      "outputs": [
        {
          "output_type": "execute_result",
          "data": {
            "text/plain": [
              "World Rank                   0\n",
              "Institution                  0\n",
              "Country                      0\n",
              "National Rank                0\n",
              "Quality of Education Rank    0\n",
              "Alumni Employment Rank       0\n",
              "Quality of Faculty Rank      0\n",
              "Research Performance Rank    0\n",
              "Score                        0\n",
              "dtype: int64"
            ]
          },
          "metadata": {},
          "execution_count": 42
        }
      ],
      "source": [
        "uni.isnull().sum()"
      ]
    },
    {
      "cell_type": "markdown",
      "source": [
        "## Question 2\n"
      ],
      "metadata": {
        "id": "fN2_KLp4cW3C"
      }
    },
    {
      "cell_type": "markdown",
      "source": [
        "Data description provides us a quick view of the data columns and the recorded values in our dataset. We need to make a quick view of our dataset to see how many rows, columns we have in our dataset, and how the data is distributed.\n",
        "\n",
        "Please do a quick study of the data using the describe function in pandas and answer the questions."
      ],
      "metadata": {
        "id": "kxJGVhHAteJ8"
      }
    },
    {
      "cell_type": "markdown",
      "source": [
        "**1. Shape of your dataset**"
      ],
      "metadata": {
        "id": "tOvsAt32csDV"
      }
    },
    {
      "cell_type": "code",
      "source": [
        "uni.shape"
      ],
      "metadata": {
        "id": "UIOHRN8sX09x",
        "colab": {
          "base_uri": "https://localhost:8080/"
        },
        "outputId": "e208f195-22b5-45b9-e476-64bbbe81483f"
      },
      "execution_count": null,
      "outputs": [
        {
          "output_type": "execute_result",
          "data": {
            "text/plain": [
              "(2000, 9)"
            ]
          },
          "metadata": {},
          "execution_count": 43
        }
      ]
    },
    {
      "cell_type": "markdown",
      "source": [
        "**2. Describe your dataset**"
      ],
      "metadata": {
        "id": "INeILfkuuhIn"
      }
    },
    {
      "cell_type": "code",
      "source": [
        "uni.describe()"
      ],
      "metadata": {
        "id": "WXUkK29LXxsV",
        "colab": {
          "base_uri": "https://localhost:8080/",
          "height": 300
        },
        "outputId": "629ddb22-23e9-4549-8ed9-6f8a1836201f"
      },
      "execution_count": null,
      "outputs": [
        {
          "output_type": "execute_result",
          "data": {
            "text/plain": [
              "        World Rank  National Rank  Quality of Education Rank  \\\n",
              "count  2000.000000    2000.000000                2000.000000   \n",
              "mean   1000.500000      67.523000                  56.240000   \n",
              "std     577.494589      83.128615                 130.999018   \n",
              "min       1.000000       1.000000                   0.000000   \n",
              "25%     500.750000      10.000000                   0.000000   \n",
              "50%    1000.500000      33.000000                   0.000000   \n",
              "75%    1500.250000      86.000000                   0.000000   \n",
              "max    2000.000000     347.000000                 530.000000   \n",
              "\n",
              "       Alumni Employment Rank  Quality of Faculty Rank  \\\n",
              "count             2000.000000              2000.000000   \n",
              "mean               352.838000                18.335000   \n",
              "std                488.929254                54.858149   \n",
              "min                  0.000000                 0.000000   \n",
              "25%                  0.000000                 0.000000   \n",
              "50%                  0.000000                 0.000000   \n",
              "75%                671.250000                 0.000000   \n",
              "max               1578.000000               273.000000   \n",
              "\n",
              "       Research Performance Rank        Score  \n",
              "count                2000.000000  2000.000000  \n",
              "mean                  937.688000    71.586450  \n",
              "std                   576.135572     5.079795  \n",
              "min                     0.000000    65.700000  \n",
              "25%                   436.750000    67.700000  \n",
              "50%                   936.500000    70.200000  \n",
              "75%                  1436.250000    74.100000  \n",
              "max                  1992.000000   100.000000  "
            ],
            "text/html": [
              "\n",
              "  <div id=\"df-e93948e9-6d02-4b7e-a071-70419d127449\">\n",
              "    <div class=\"colab-df-container\">\n",
              "      <div>\n",
              "<style scoped>\n",
              "    .dataframe tbody tr th:only-of-type {\n",
              "        vertical-align: middle;\n",
              "    }\n",
              "\n",
              "    .dataframe tbody tr th {\n",
              "        vertical-align: top;\n",
              "    }\n",
              "\n",
              "    .dataframe thead th {\n",
              "        text-align: right;\n",
              "    }\n",
              "</style>\n",
              "<table border=\"1\" class=\"dataframe\">\n",
              "  <thead>\n",
              "    <tr style=\"text-align: right;\">\n",
              "      <th></th>\n",
              "      <th>World Rank</th>\n",
              "      <th>National Rank</th>\n",
              "      <th>Quality of Education Rank</th>\n",
              "      <th>Alumni Employment Rank</th>\n",
              "      <th>Quality of Faculty Rank</th>\n",
              "      <th>Research Performance Rank</th>\n",
              "      <th>Score</th>\n",
              "    </tr>\n",
              "  </thead>\n",
              "  <tbody>\n",
              "    <tr>\n",
              "      <th>count</th>\n",
              "      <td>2000.000000</td>\n",
              "      <td>2000.000000</td>\n",
              "      <td>2000.000000</td>\n",
              "      <td>2000.000000</td>\n",
              "      <td>2000.000000</td>\n",
              "      <td>2000.000000</td>\n",
              "      <td>2000.000000</td>\n",
              "    </tr>\n",
              "    <tr>\n",
              "      <th>mean</th>\n",
              "      <td>1000.500000</td>\n",
              "      <td>67.523000</td>\n",
              "      <td>56.240000</td>\n",
              "      <td>352.838000</td>\n",
              "      <td>18.335000</td>\n",
              "      <td>937.688000</td>\n",
              "      <td>71.586450</td>\n",
              "    </tr>\n",
              "    <tr>\n",
              "      <th>std</th>\n",
              "      <td>577.494589</td>\n",
              "      <td>83.128615</td>\n",
              "      <td>130.999018</td>\n",
              "      <td>488.929254</td>\n",
              "      <td>54.858149</td>\n",
              "      <td>576.135572</td>\n",
              "      <td>5.079795</td>\n",
              "    </tr>\n",
              "    <tr>\n",
              "      <th>min</th>\n",
              "      <td>1.000000</td>\n",
              "      <td>1.000000</td>\n",
              "      <td>0.000000</td>\n",
              "      <td>0.000000</td>\n",
              "      <td>0.000000</td>\n",
              "      <td>0.000000</td>\n",
              "      <td>65.700000</td>\n",
              "    </tr>\n",
              "    <tr>\n",
              "      <th>25%</th>\n",
              "      <td>500.750000</td>\n",
              "      <td>10.000000</td>\n",
              "      <td>0.000000</td>\n",
              "      <td>0.000000</td>\n",
              "      <td>0.000000</td>\n",
              "      <td>436.750000</td>\n",
              "      <td>67.700000</td>\n",
              "    </tr>\n",
              "    <tr>\n",
              "      <th>50%</th>\n",
              "      <td>1000.500000</td>\n",
              "      <td>33.000000</td>\n",
              "      <td>0.000000</td>\n",
              "      <td>0.000000</td>\n",
              "      <td>0.000000</td>\n",
              "      <td>936.500000</td>\n",
              "      <td>70.200000</td>\n",
              "    </tr>\n",
              "    <tr>\n",
              "      <th>75%</th>\n",
              "      <td>1500.250000</td>\n",
              "      <td>86.000000</td>\n",
              "      <td>0.000000</td>\n",
              "      <td>671.250000</td>\n",
              "      <td>0.000000</td>\n",
              "      <td>1436.250000</td>\n",
              "      <td>74.100000</td>\n",
              "    </tr>\n",
              "    <tr>\n",
              "      <th>max</th>\n",
              "      <td>2000.000000</td>\n",
              "      <td>347.000000</td>\n",
              "      <td>530.000000</td>\n",
              "      <td>1578.000000</td>\n",
              "      <td>273.000000</td>\n",
              "      <td>1992.000000</td>\n",
              "      <td>100.000000</td>\n",
              "    </tr>\n",
              "  </tbody>\n",
              "</table>\n",
              "</div>\n",
              "      <button class=\"colab-df-convert\" onclick=\"convertToInteractive('df-e93948e9-6d02-4b7e-a071-70419d127449')\"\n",
              "              title=\"Convert this dataframe to an interactive table.\"\n",
              "              style=\"display:none;\">\n",
              "        \n",
              "  <svg xmlns=\"http://www.w3.org/2000/svg\" height=\"24px\"viewBox=\"0 0 24 24\"\n",
              "       width=\"24px\">\n",
              "    <path d=\"M0 0h24v24H0V0z\" fill=\"none\"/>\n",
              "    <path d=\"M18.56 5.44l.94 2.06.94-2.06 2.06-.94-2.06-.94-.94-2.06-.94 2.06-2.06.94zm-11 1L8.5 8.5l.94-2.06 2.06-.94-2.06-.94L8.5 2.5l-.94 2.06-2.06.94zm10 10l.94 2.06.94-2.06 2.06-.94-2.06-.94-.94-2.06-.94 2.06-2.06.94z\"/><path d=\"M17.41 7.96l-1.37-1.37c-.4-.4-.92-.59-1.43-.59-.52 0-1.04.2-1.43.59L10.3 9.45l-7.72 7.72c-.78.78-.78 2.05 0 2.83L4 21.41c.39.39.9.59 1.41.59.51 0 1.02-.2 1.41-.59l7.78-7.78 2.81-2.81c.8-.78.8-2.07 0-2.86zM5.41 20L4 18.59l7.72-7.72 1.47 1.35L5.41 20z\"/>\n",
              "  </svg>\n",
              "      </button>\n",
              "      \n",
              "  <style>\n",
              "    .colab-df-container {\n",
              "      display:flex;\n",
              "      flex-wrap:wrap;\n",
              "      gap: 12px;\n",
              "    }\n",
              "\n",
              "    .colab-df-convert {\n",
              "      background-color: #E8F0FE;\n",
              "      border: none;\n",
              "      border-radius: 50%;\n",
              "      cursor: pointer;\n",
              "      display: none;\n",
              "      fill: #1967D2;\n",
              "      height: 32px;\n",
              "      padding: 0 0 0 0;\n",
              "      width: 32px;\n",
              "    }\n",
              "\n",
              "    .colab-df-convert:hover {\n",
              "      background-color: #E2EBFA;\n",
              "      box-shadow: 0px 1px 2px rgba(60, 64, 67, 0.3), 0px 1px 3px 1px rgba(60, 64, 67, 0.15);\n",
              "      fill: #174EA6;\n",
              "    }\n",
              "\n",
              "    [theme=dark] .colab-df-convert {\n",
              "      background-color: #3B4455;\n",
              "      fill: #D2E3FC;\n",
              "    }\n",
              "\n",
              "    [theme=dark] .colab-df-convert:hover {\n",
              "      background-color: #434B5C;\n",
              "      box-shadow: 0px 1px 3px 1px rgba(0, 0, 0, 0.15);\n",
              "      filter: drop-shadow(0px 1px 2px rgba(0, 0, 0, 0.3));\n",
              "      fill: #FFFFFF;\n",
              "    }\n",
              "  </style>\n",
              "\n",
              "      <script>\n",
              "        const buttonEl =\n",
              "          document.querySelector('#df-e93948e9-6d02-4b7e-a071-70419d127449 button.colab-df-convert');\n",
              "        buttonEl.style.display =\n",
              "          google.colab.kernel.accessAllowed ? 'block' : 'none';\n",
              "\n",
              "        async function convertToInteractive(key) {\n",
              "          const element = document.querySelector('#df-e93948e9-6d02-4b7e-a071-70419d127449');\n",
              "          const dataTable =\n",
              "            await google.colab.kernel.invokeFunction('convertToInteractive',\n",
              "                                                     [key], {});\n",
              "          if (!dataTable) return;\n",
              "\n",
              "          const docLinkHtml = 'Like what you see? Visit the ' +\n",
              "            '<a target=\"_blank\" href=https://colab.research.google.com/notebooks/data_table.ipynb>data table notebook</a>'\n",
              "            + ' to learn more about interactive tables.';\n",
              "          element.innerHTML = '';\n",
              "          dataTable['output_type'] = 'display_data';\n",
              "          await google.colab.output.renderOutput(dataTable, element);\n",
              "          const docLink = document.createElement('div');\n",
              "          docLink.innerHTML = docLinkHtml;\n",
              "          element.appendChild(docLink);\n",
              "        }\n",
              "      </script>\n",
              "    </div>\n",
              "  </div>\n",
              "  "
            ]
          },
          "metadata": {},
          "execution_count": 44
        }
      ]
    },
    {
      "cell_type": "markdown",
      "source": [
        "## Question 3"
      ],
      "metadata": {
        "id": "KLdpsbhcuqUl"
      }
    },
    {
      "cell_type": "markdown",
      "source": [
        "In this question, you are required do some analysis for 4 of the data columns, and put down\n",
        "1. type (Numerical, Categorical) of each column,\n",
        "2. the description of each column, and\n",
        "3. values in each column (list out 3 sample values for categorical column, and the range of value for numerical values)\n",
        "\n",
        "The columns to study are:\n",
        "> Country, Institution, World Rank, Score\n"
      ],
      "metadata": {
        "id": "VfngkaALuvTP"
      }
    },
    {
      "cell_type": "markdown",
      "source": [
        "**Note**\n",
        "1. Column names and Dataframe names are case sensitive \n",
        "2. We have to use print() function to print multiple statements in one cell"
      ],
      "metadata": {
        "id": "0V4hn9G4gacr"
      }
    },
    {
      "cell_type": "code",
      "source": [
        "uni.dtypes"
      ],
      "metadata": {
        "id": "oDaAui_qYEiS",
        "colab": {
          "base_uri": "https://localhost:8080/"
        },
        "outputId": "af07f47e-2d2b-4b59-bca4-086964a43339"
      },
      "execution_count": null,
      "outputs": [
        {
          "output_type": "execute_result",
          "data": {
            "text/plain": [
              "World Rank                     int64\n",
              "Institution                   object\n",
              "Country                       object\n",
              "National Rank                  int64\n",
              "Quality of Education Rank      int64\n",
              "Alumni Employment Rank         int64\n",
              "Quality of Faculty Rank        int64\n",
              "Research Performance Rank      int64\n",
              "Score                        float64\n",
              "dtype: object"
            ]
          },
          "metadata": {},
          "execution_count": 45
        }
      ]
    },
    {
      "cell_type": "code",
      "source": [
        "print('The type of column Country is categorical, data type is', uni['Country'].dtypes)\n",
        "print('The type of column Institution is categorical, data type is', uni['Institution'].dtypes)\n",
        "print('The type of column World Rank is numerical, data type is', uni['World Rank'].dtypes)\n",
        "print('The type of column Score is numerica;, data type is', uni['Score'].dtypes)"
      ],
      "metadata": {
        "id": "FdkXP5LCY2L1",
        "colab": {
          "base_uri": "https://localhost:8080/"
        },
        "outputId": "27a90246-3a18-4def-efbd-cbc4f7dec0e3"
      },
      "execution_count": null,
      "outputs": [
        {
          "output_type": "stream",
          "name": "stdout",
          "text": [
            "The type of column Country is categorical, data type is object\n",
            "The type of column Institution is categorical, data type is object\n",
            "The type of column World Rank is numerical, data type is int64\n",
            "The type of column Score is numerica;, data type is float64\n"
          ]
        }
      ]
    },
    {
      "cell_type": "code",
      "source": [
        "uni['Country'].describe()"
      ],
      "metadata": {
        "id": "mC0sa60AaXf_",
        "colab": {
          "base_uri": "https://localhost:8080/"
        },
        "outputId": "7de510f2-f684-4a59-f905-5b2f7e625972"
      },
      "execution_count": null,
      "outputs": [
        {
          "output_type": "execute_result",
          "data": {
            "text/plain": [
              "count     2000\n",
              "unique      95\n",
              "top        USA\n",
              "freq       347\n",
              "Name: Country, dtype: object"
            ]
          },
          "metadata": {},
          "execution_count": 47
        }
      ]
    },
    {
      "cell_type": "code",
      "source": [
        "uni['Institution'].describe()"
      ],
      "metadata": {
        "id": "F7r5KmPZaehn",
        "colab": {
          "base_uri": "https://localhost:8080/"
        },
        "outputId": "229b2831-f658-418e-c901-ea3079a412b8"
      },
      "execution_count": null,
      "outputs": [
        {
          "output_type": "execute_result",
          "data": {
            "text/plain": [
              "count                   2000\n",
              "unique                  2000\n",
              "top       Harvard University\n",
              "freq                       1\n",
              "Name: Institution, dtype: object"
            ]
          },
          "metadata": {},
          "execution_count": 48
        }
      ]
    },
    {
      "cell_type": "code",
      "source": [
        "uni['World Rank'].describe()"
      ],
      "metadata": {
        "id": "TkBLd4wtaesW",
        "colab": {
          "base_uri": "https://localhost:8080/"
        },
        "outputId": "1153a58f-f2de-4f4b-98cf-11e4b07bae5d"
      },
      "execution_count": null,
      "outputs": [
        {
          "output_type": "execute_result",
          "data": {
            "text/plain": [
              "count    2000.000000\n",
              "mean     1000.500000\n",
              "std       577.494589\n",
              "min         1.000000\n",
              "25%       500.750000\n",
              "50%      1000.500000\n",
              "75%      1500.250000\n",
              "max      2000.000000\n",
              "Name: World Rank, dtype: float64"
            ]
          },
          "metadata": {},
          "execution_count": 49
        }
      ]
    },
    {
      "cell_type": "code",
      "source": [
        "uni['Score'].describe()"
      ],
      "metadata": {
        "id": "Rfq8wPDUae2a",
        "colab": {
          "base_uri": "https://localhost:8080/"
        },
        "outputId": "c8dba3a7-2e89-4a3f-879f-cad9508d520d"
      },
      "execution_count": null,
      "outputs": [
        {
          "output_type": "execute_result",
          "data": {
            "text/plain": [
              "count    2000.000000\n",
              "mean       71.586450\n",
              "std         5.079795\n",
              "min        65.700000\n",
              "25%        67.700000\n",
              "50%        70.200000\n",
              "75%        74.100000\n",
              "max       100.000000\n",
              "Name: Score, dtype: float64"
            ]
          },
          "metadata": {},
          "execution_count": 50
        }
      ]
    },
    {
      "cell_type": "code",
      "execution_count": null,
      "metadata": {
        "id": "dE19o6jscKTn",
        "colab": {
          "base_uri": "https://localhost:8080/"
        },
        "outputId": "358fe30d-1d53-4851-8c50-067f00922f7e"
      },
      "outputs": [
        {
          "output_type": "execute_result",
          "data": {
            "text/plain": [
              "1655     China\n",
              "128        USA\n",
              "1198    Brazil\n",
              "Name: Country, dtype: object"
            ]
          },
          "metadata": {},
          "execution_count": 51
        }
      ],
      "source": [
        "uni['Country'].sample(3)"
      ]
    },
    {
      "cell_type": "code",
      "source": [
        "uni['Institution'].sample(3)"
      ],
      "metadata": {
        "id": "novINUB_vTzs",
        "colab": {
          "base_uri": "https://localhost:8080/"
        },
        "outputId": "cd130e58-8cb9-46cb-9994-38b15937d286"
      },
      "execution_count": null,
      "outputs": [
        {
          "output_type": "execute_result",
          "data": {
            "text/plain": [
              "776          Gwangju Institute of Science and Technology\n",
              "1387    Southwestern University of Finance and Economics\n",
              "1241               Federal University of Esp??rito Santo\n",
              "Name: Institution, dtype: object"
            ]
          },
          "metadata": {},
          "execution_count": 52
        }
      ]
    },
    {
      "cell_type": "code",
      "source": [
        "print(\"Range of World Rank\")\n",
        "print(uni[\"World Rank\"].max() - uni[\"World Rank\"].min())"
      ],
      "metadata": {
        "id": "0zpMmrP8rvdo",
        "colab": {
          "base_uri": "https://localhost:8080/"
        },
        "outputId": "0c97d343-cce2-4794-f5c0-d8bba875570a"
      },
      "execution_count": null,
      "outputs": [
        {
          "output_type": "stream",
          "name": "stdout",
          "text": [
            "Range of World Rank\n",
            "1999\n"
          ]
        }
      ]
    },
    {
      "cell_type": "code",
      "source": [
        "print(\"Range of Score\")\n",
        "print(uni[\"Score\"].max() - uni[\"Score\"].min())"
      ],
      "metadata": {
        "id": "kxZVQPgMvpca",
        "colab": {
          "base_uri": "https://localhost:8080/"
        },
        "outputId": "fbe6a952-16d0-41cc-d7e6-5e3213fab323"
      },
      "execution_count": null,
      "outputs": [
        {
          "output_type": "stream",
          "name": "stdout",
          "text": [
            "Range of Score\n",
            "34.3\n"
          ]
        }
      ]
    },
    {
      "cell_type": "markdown",
      "source": [
        "## Question 4\n",
        "\n"
      ],
      "metadata": {
        "id": "7v9akjT1S_AF"
      }
    },
    {
      "cell_type": "markdown",
      "source": [
        "Let’s say you want to find a university that has good alumni employment opportunities. From the dataset given,\n",
        "List out the top 10 universities based on employment ability.\n",
        "\n",
        "Also, list out the countries where these universities come from. \n",
        "(You can take help from the data aggregation strategies such as sorting, filtering etc)\n"
      ],
      "metadata": {
        "id": "3GlHvtbMTHMq"
      }
    },
    {
      "cell_type": "code",
      "source": [
        "filtered_uni = uni.filter([\"Institution\", \"Alumni Employment Rank\", \"Country\"])"
      ],
      "metadata": {
        "id": "658JpjsaOWHm"
      },
      "execution_count": null,
      "outputs": []
    },
    {
      "cell_type": "code",
      "source": [
        "filtered_uni.drop(filtered_uni[filtered_uni['Alumni Employment Rank'] == 0.0].index, inplace=True)"
      ],
      "metadata": {
        "id": "uWv-rYf_3xn0"
      },
      "execution_count": null,
      "outputs": []
    },
    {
      "cell_type": "code",
      "execution_count": null,
      "metadata": {
        "id": "5yx6ZivT-ZP7",
        "colab": {
          "base_uri": "https://localhost:8080/"
        },
        "outputId": "9257cc84-1cc2-4698-8348-140220afb9ee"
      },
      "outputs": [
        {
          "output_type": "stream",
          "name": "stdout",
          "text": [
            "                                           Institution  \\\n",
            "0                                   Harvard University   \n",
            "118                                             INSEAD   \n",
            "174                  ??cole nationale d'administration   \n",
            "2                                  Stanford University   \n",
            "251                                          HEC Paris   \n",
            "12                                 University of Tokyo   \n",
            "307         China Europe International Business School   \n",
            "40                     Institut Polytechnique de Paris   \n",
            "337  International Institute for Management Develop...   \n",
            "8                           University of Pennsylvania   \n",
            "\n",
            "     Alumni Employment Rank      Country  \n",
            "0                         1          USA  \n",
            "118                       2       France  \n",
            "174                       3       France  \n",
            "2                         4          USA  \n",
            "251                       5       France  \n",
            "12                        6        Japan  \n",
            "307                       7        China  \n",
            "40                        8       France  \n",
            "337                       9  Switzerland  \n",
            "8                        10          USA  \n"
          ]
        }
      ],
      "source": [
        "Top_uni = filtered_uni.sort_values(by=['Alumni Employment Rank'] , ascending= True).head(10)\n",
        "print(Top_uni)"
      ]
    },
    {
      "cell_type": "code",
      "source": [
        "Top_uni['Country'].value_counts()"
      ],
      "metadata": {
        "colab": {
          "base_uri": "https://localhost:8080/"
        },
        "id": "ZxSH5f6SgoVY",
        "outputId": "0d269059-be40-44df-e4e2-afd0420817aa"
      },
      "execution_count": null,
      "outputs": [
        {
          "output_type": "execute_result",
          "data": {
            "text/plain": [
              "France         4\n",
              "USA            3\n",
              "Japan          1\n",
              "China          1\n",
              "Switzerland    1\n",
              "Name: Country, dtype: int64"
            ]
          },
          "metadata": {},
          "execution_count": 58
        }
      ]
    },
    {
      "cell_type": "markdown",
      "source": [
        "## Question 5 "
      ],
      "metadata": {
        "id": "-itppxvpWrbA"
      }
    },
    {
      "cell_type": "markdown",
      "source": [
        "or example, if we want to have a high level overview of the universities in the USA based on their world rank and overall scores, we can make a subset of data having World Rank, Score and Institution only. We can also further filter out universities that are not in the USA.\n",
        "\n",
        "To achieve that, please\n",
        "1. Create a subset data frame using filters on above mentioned columns\n",
        "2. And from this subset, filter out the Universities which belong to the USA (the output data frame should only contain universities from the USA).\n"
      ],
      "metadata": {
        "id": "fjGN7U69WtYw"
      }
    },
    {
      "cell_type": "code",
      "source": [
        "filtered_uni1 = uni.filter([\"World Rank\", \"Score\", \"Institution\",\"Country\"])"
      ],
      "metadata": {
        "id": "etZhrO8RNOaW"
      },
      "execution_count": null,
      "outputs": []
    },
    {
      "cell_type": "code",
      "source": [
        "filtered_uni1[filtered_uni1[\"Country\"] == 'USA'].head()"
      ],
      "metadata": {
        "id": "Oo0Jm-JVTl2o",
        "colab": {
          "base_uri": "https://localhost:8080/",
          "height": 206
        },
        "outputId": "9c027c07-ef39-4ddf-ee73-0368700ca4c0"
      },
      "execution_count": null,
      "outputs": [
        {
          "output_type": "execute_result",
          "data": {
            "text/plain": [
              "   World Rank  Score                            Institution Country\n",
              "0           1  100.0                     Harvard University     USA\n",
              "1           2   96.7  Massachusetts Institute of Technology     USA\n",
              "2           3   95.1                    Stanford University     USA\n",
              "5           6   92.6                   Princeton University     USA\n",
              "6           7   92.0                    Columbia University     USA"
            ],
            "text/html": [
              "\n",
              "  <div id=\"df-30bf9758-04ed-4196-9915-2291f12bfc1a\">\n",
              "    <div class=\"colab-df-container\">\n",
              "      <div>\n",
              "<style scoped>\n",
              "    .dataframe tbody tr th:only-of-type {\n",
              "        vertical-align: middle;\n",
              "    }\n",
              "\n",
              "    .dataframe tbody tr th {\n",
              "        vertical-align: top;\n",
              "    }\n",
              "\n",
              "    .dataframe thead th {\n",
              "        text-align: right;\n",
              "    }\n",
              "</style>\n",
              "<table border=\"1\" class=\"dataframe\">\n",
              "  <thead>\n",
              "    <tr style=\"text-align: right;\">\n",
              "      <th></th>\n",
              "      <th>World Rank</th>\n",
              "      <th>Score</th>\n",
              "      <th>Institution</th>\n",
              "      <th>Country</th>\n",
              "    </tr>\n",
              "  </thead>\n",
              "  <tbody>\n",
              "    <tr>\n",
              "      <th>0</th>\n",
              "      <td>1</td>\n",
              "      <td>100.0</td>\n",
              "      <td>Harvard University</td>\n",
              "      <td>USA</td>\n",
              "    </tr>\n",
              "    <tr>\n",
              "      <th>1</th>\n",
              "      <td>2</td>\n",
              "      <td>96.7</td>\n",
              "      <td>Massachusetts Institute of Technology</td>\n",
              "      <td>USA</td>\n",
              "    </tr>\n",
              "    <tr>\n",
              "      <th>2</th>\n",
              "      <td>3</td>\n",
              "      <td>95.1</td>\n",
              "      <td>Stanford University</td>\n",
              "      <td>USA</td>\n",
              "    </tr>\n",
              "    <tr>\n",
              "      <th>5</th>\n",
              "      <td>6</td>\n",
              "      <td>92.6</td>\n",
              "      <td>Princeton University</td>\n",
              "      <td>USA</td>\n",
              "    </tr>\n",
              "    <tr>\n",
              "      <th>6</th>\n",
              "      <td>7</td>\n",
              "      <td>92.0</td>\n",
              "      <td>Columbia University</td>\n",
              "      <td>USA</td>\n",
              "    </tr>\n",
              "  </tbody>\n",
              "</table>\n",
              "</div>\n",
              "      <button class=\"colab-df-convert\" onclick=\"convertToInteractive('df-30bf9758-04ed-4196-9915-2291f12bfc1a')\"\n",
              "              title=\"Convert this dataframe to an interactive table.\"\n",
              "              style=\"display:none;\">\n",
              "        \n",
              "  <svg xmlns=\"http://www.w3.org/2000/svg\" height=\"24px\"viewBox=\"0 0 24 24\"\n",
              "       width=\"24px\">\n",
              "    <path d=\"M0 0h24v24H0V0z\" fill=\"none\"/>\n",
              "    <path d=\"M18.56 5.44l.94 2.06.94-2.06 2.06-.94-2.06-.94-.94-2.06-.94 2.06-2.06.94zm-11 1L8.5 8.5l.94-2.06 2.06-.94-2.06-.94L8.5 2.5l-.94 2.06-2.06.94zm10 10l.94 2.06.94-2.06 2.06-.94-2.06-.94-.94-2.06-.94 2.06-2.06.94z\"/><path d=\"M17.41 7.96l-1.37-1.37c-.4-.4-.92-.59-1.43-.59-.52 0-1.04.2-1.43.59L10.3 9.45l-7.72 7.72c-.78.78-.78 2.05 0 2.83L4 21.41c.39.39.9.59 1.41.59.51 0 1.02-.2 1.41-.59l7.78-7.78 2.81-2.81c.8-.78.8-2.07 0-2.86zM5.41 20L4 18.59l7.72-7.72 1.47 1.35L5.41 20z\"/>\n",
              "  </svg>\n",
              "      </button>\n",
              "      \n",
              "  <style>\n",
              "    .colab-df-container {\n",
              "      display:flex;\n",
              "      flex-wrap:wrap;\n",
              "      gap: 12px;\n",
              "    }\n",
              "\n",
              "    .colab-df-convert {\n",
              "      background-color: #E8F0FE;\n",
              "      border: none;\n",
              "      border-radius: 50%;\n",
              "      cursor: pointer;\n",
              "      display: none;\n",
              "      fill: #1967D2;\n",
              "      height: 32px;\n",
              "      padding: 0 0 0 0;\n",
              "      width: 32px;\n",
              "    }\n",
              "\n",
              "    .colab-df-convert:hover {\n",
              "      background-color: #E2EBFA;\n",
              "      box-shadow: 0px 1px 2px rgba(60, 64, 67, 0.3), 0px 1px 3px 1px rgba(60, 64, 67, 0.15);\n",
              "      fill: #174EA6;\n",
              "    }\n",
              "\n",
              "    [theme=dark] .colab-df-convert {\n",
              "      background-color: #3B4455;\n",
              "      fill: #D2E3FC;\n",
              "    }\n",
              "\n",
              "    [theme=dark] .colab-df-convert:hover {\n",
              "      background-color: #434B5C;\n",
              "      box-shadow: 0px 1px 3px 1px rgba(0, 0, 0, 0.15);\n",
              "      filter: drop-shadow(0px 1px 2px rgba(0, 0, 0, 0.3));\n",
              "      fill: #FFFFFF;\n",
              "    }\n",
              "  </style>\n",
              "\n",
              "      <script>\n",
              "        const buttonEl =\n",
              "          document.querySelector('#df-30bf9758-04ed-4196-9915-2291f12bfc1a button.colab-df-convert');\n",
              "        buttonEl.style.display =\n",
              "          google.colab.kernel.accessAllowed ? 'block' : 'none';\n",
              "\n",
              "        async function convertToInteractive(key) {\n",
              "          const element = document.querySelector('#df-30bf9758-04ed-4196-9915-2291f12bfc1a');\n",
              "          const dataTable =\n",
              "            await google.colab.kernel.invokeFunction('convertToInteractive',\n",
              "                                                     [key], {});\n",
              "          if (!dataTable) return;\n",
              "\n",
              "          const docLinkHtml = 'Like what you see? Visit the ' +\n",
              "            '<a target=\"_blank\" href=https://colab.research.google.com/notebooks/data_table.ipynb>data table notebook</a>'\n",
              "            + ' to learn more about interactive tables.';\n",
              "          element.innerHTML = '';\n",
              "          dataTable['output_type'] = 'display_data';\n",
              "          await google.colab.output.renderOutput(dataTable, element);\n",
              "          const docLink = document.createElement('div');\n",
              "          docLink.innerHTML = docLinkHtml;\n",
              "          element.appendChild(docLink);\n",
              "        }\n",
              "      </script>\n",
              "    </div>\n",
              "  </div>\n",
              "  "
            ]
          },
          "metadata": {},
          "execution_count": 60
        }
      ]
    },
    {
      "cell_type": "code",
      "source": [
        "filtered_uni1[filtered_uni1[\"Country\"] == 'USA'].tail()"
      ],
      "metadata": {
        "colab": {
          "base_uri": "https://localhost:8080/",
          "height": 206
        },
        "id": "5424c4P6jCUs",
        "outputId": "ff4fc096-1c1b-4db9-c68b-919eb0a1f22b"
      },
      "execution_count": null,
      "outputs": [
        {
          "output_type": "execute_result",
          "data": {
            "text/plain": [
              "      World Rank  Score                   Institution Country\n",
              "1980        1981   65.8  Sam Houston State University     USA\n",
              "1988        1989   65.8  University of Hawaii at Hilo     USA\n",
              "1989        1990   65.8   University of North Florida     USA\n",
              "1990        1991   65.8               Trinity College     USA\n",
              "1992        1993   65.8       Sonoma State University     USA"
            ],
            "text/html": [
              "\n",
              "  <div id=\"df-b8a92d1d-214a-411f-9a51-f191eac04163\">\n",
              "    <div class=\"colab-df-container\">\n",
              "      <div>\n",
              "<style scoped>\n",
              "    .dataframe tbody tr th:only-of-type {\n",
              "        vertical-align: middle;\n",
              "    }\n",
              "\n",
              "    .dataframe tbody tr th {\n",
              "        vertical-align: top;\n",
              "    }\n",
              "\n",
              "    .dataframe thead th {\n",
              "        text-align: right;\n",
              "    }\n",
              "</style>\n",
              "<table border=\"1\" class=\"dataframe\">\n",
              "  <thead>\n",
              "    <tr style=\"text-align: right;\">\n",
              "      <th></th>\n",
              "      <th>World Rank</th>\n",
              "      <th>Score</th>\n",
              "      <th>Institution</th>\n",
              "      <th>Country</th>\n",
              "    </tr>\n",
              "  </thead>\n",
              "  <tbody>\n",
              "    <tr>\n",
              "      <th>1980</th>\n",
              "      <td>1981</td>\n",
              "      <td>65.8</td>\n",
              "      <td>Sam Houston State University</td>\n",
              "      <td>USA</td>\n",
              "    </tr>\n",
              "    <tr>\n",
              "      <th>1988</th>\n",
              "      <td>1989</td>\n",
              "      <td>65.8</td>\n",
              "      <td>University of Hawaii at Hilo</td>\n",
              "      <td>USA</td>\n",
              "    </tr>\n",
              "    <tr>\n",
              "      <th>1989</th>\n",
              "      <td>1990</td>\n",
              "      <td>65.8</td>\n",
              "      <td>University of North Florida</td>\n",
              "      <td>USA</td>\n",
              "    </tr>\n",
              "    <tr>\n",
              "      <th>1990</th>\n",
              "      <td>1991</td>\n",
              "      <td>65.8</td>\n",
              "      <td>Trinity College</td>\n",
              "      <td>USA</td>\n",
              "    </tr>\n",
              "    <tr>\n",
              "      <th>1992</th>\n",
              "      <td>1993</td>\n",
              "      <td>65.8</td>\n",
              "      <td>Sonoma State University</td>\n",
              "      <td>USA</td>\n",
              "    </tr>\n",
              "  </tbody>\n",
              "</table>\n",
              "</div>\n",
              "      <button class=\"colab-df-convert\" onclick=\"convertToInteractive('df-b8a92d1d-214a-411f-9a51-f191eac04163')\"\n",
              "              title=\"Convert this dataframe to an interactive table.\"\n",
              "              style=\"display:none;\">\n",
              "        \n",
              "  <svg xmlns=\"http://www.w3.org/2000/svg\" height=\"24px\"viewBox=\"0 0 24 24\"\n",
              "       width=\"24px\">\n",
              "    <path d=\"M0 0h24v24H0V0z\" fill=\"none\"/>\n",
              "    <path d=\"M18.56 5.44l.94 2.06.94-2.06 2.06-.94-2.06-.94-.94-2.06-.94 2.06-2.06.94zm-11 1L8.5 8.5l.94-2.06 2.06-.94-2.06-.94L8.5 2.5l-.94 2.06-2.06.94zm10 10l.94 2.06.94-2.06 2.06-.94-2.06-.94-.94-2.06-.94 2.06-2.06.94z\"/><path d=\"M17.41 7.96l-1.37-1.37c-.4-.4-.92-.59-1.43-.59-.52 0-1.04.2-1.43.59L10.3 9.45l-7.72 7.72c-.78.78-.78 2.05 0 2.83L4 21.41c.39.39.9.59 1.41.59.51 0 1.02-.2 1.41-.59l7.78-7.78 2.81-2.81c.8-.78.8-2.07 0-2.86zM5.41 20L4 18.59l7.72-7.72 1.47 1.35L5.41 20z\"/>\n",
              "  </svg>\n",
              "      </button>\n",
              "      \n",
              "  <style>\n",
              "    .colab-df-container {\n",
              "      display:flex;\n",
              "      flex-wrap:wrap;\n",
              "      gap: 12px;\n",
              "    }\n",
              "\n",
              "    .colab-df-convert {\n",
              "      background-color: #E8F0FE;\n",
              "      border: none;\n",
              "      border-radius: 50%;\n",
              "      cursor: pointer;\n",
              "      display: none;\n",
              "      fill: #1967D2;\n",
              "      height: 32px;\n",
              "      padding: 0 0 0 0;\n",
              "      width: 32px;\n",
              "    }\n",
              "\n",
              "    .colab-df-convert:hover {\n",
              "      background-color: #E2EBFA;\n",
              "      box-shadow: 0px 1px 2px rgba(60, 64, 67, 0.3), 0px 1px 3px 1px rgba(60, 64, 67, 0.15);\n",
              "      fill: #174EA6;\n",
              "    }\n",
              "\n",
              "    [theme=dark] .colab-df-convert {\n",
              "      background-color: #3B4455;\n",
              "      fill: #D2E3FC;\n",
              "    }\n",
              "\n",
              "    [theme=dark] .colab-df-convert:hover {\n",
              "      background-color: #434B5C;\n",
              "      box-shadow: 0px 1px 3px 1px rgba(0, 0, 0, 0.15);\n",
              "      filter: drop-shadow(0px 1px 2px rgba(0, 0, 0, 0.3));\n",
              "      fill: #FFFFFF;\n",
              "    }\n",
              "  </style>\n",
              "\n",
              "      <script>\n",
              "        const buttonEl =\n",
              "          document.querySelector('#df-b8a92d1d-214a-411f-9a51-f191eac04163 button.colab-df-convert');\n",
              "        buttonEl.style.display =\n",
              "          google.colab.kernel.accessAllowed ? 'block' : 'none';\n",
              "\n",
              "        async function convertToInteractive(key) {\n",
              "          const element = document.querySelector('#df-b8a92d1d-214a-411f-9a51-f191eac04163');\n",
              "          const dataTable =\n",
              "            await google.colab.kernel.invokeFunction('convertToInteractive',\n",
              "                                                     [key], {});\n",
              "          if (!dataTable) return;\n",
              "\n",
              "          const docLinkHtml = 'Like what you see? Visit the ' +\n",
              "            '<a target=\"_blank\" href=https://colab.research.google.com/notebooks/data_table.ipynb>data table notebook</a>'\n",
              "            + ' to learn more about interactive tables.';\n",
              "          element.innerHTML = '';\n",
              "          dataTable['output_type'] = 'display_data';\n",
              "          await google.colab.output.renderOutput(dataTable, element);\n",
              "          const docLink = document.createElement('div');\n",
              "          docLink.innerHTML = docLinkHtml;\n",
              "          element.appendChild(docLink);\n",
              "        }\n",
              "      </script>\n",
              "    </div>\n",
              "  </div>\n",
              "  "
            ]
          },
          "metadata": {},
          "execution_count": 61
        }
      ]
    },
    {
      "cell_type": "markdown",
      "source": [
        "\n",
        "## Question 6\n",
        "\n"
      ],
      "metadata": {
        "id": "-JJFOb60hRwu"
      }
    },
    {
      "cell_type": "markdown",
      "source": [
        "Next, we would like to analyse which countries are having more high ranking and high quality universities and which countries have less.\n",
        "\n",
        "In order to generate these insights, you are required to make a summarised data frame with all the countries and their average score of the universities. (Hint: consider using the “groupby” function)\n",
        "\n",
        "After creating the data frame, answer the questions.\n"
      ],
      "metadata": {
        "id": "T_AM-dhBeR1t"
      }
    },
    {
      "cell_type": "code",
      "source": [
        "grouped_uni = uni.groupby('Country')"
      ],
      "metadata": {
        "id": "2FwvhZMFDv5E"
      },
      "execution_count": null,
      "outputs": []
    },
    {
      "cell_type": "code",
      "source": [
        "Top_uni = grouped_uni['Score'].mean()\n",
        "print(Top_uni)"
      ],
      "metadata": {
        "id": "aRQrHFWZS1v6",
        "colab": {
          "base_uri": "https://localhost:8080/"
        },
        "outputId": "d8835dff-ab7c-4f8b-aadd-dfb8a818ab2d"
      },
      "execution_count": null,
      "outputs": [
        {
          "output_type": "stream",
          "name": "stdout",
          "text": [
            "Country\n",
            "Algeria      66.200000\n",
            "Argentina    69.040000\n",
            "Armenia      71.900000\n",
            "Australia    73.720513\n",
            "Austria      71.752941\n",
            "               ...    \n",
            "Uruguay      70.600000\n",
            "Venezuela    66.600000\n",
            "Vietnam      67.540000\n",
            "Zambia       67.400000\n",
            "Zimbabwe     66.700000\n",
            "Name: Score, Length: 95, dtype: float64\n"
          ]
        }
      ]
    },
    {
      "cell_type": "code",
      "source": [
        "print(Top_uni['Ireland'].round(2))\n",
        "print(Top_uni['United Kingdom'].round(2))\n",
        "print(Top_uni['Pakistan'].round(2))\n",
        "print(Top_uni['Germany'].round(2))\n"
      ],
      "metadata": {
        "colab": {
          "base_uri": "https://localhost:8080/"
        },
        "id": "OH-mH8BFjxhp",
        "outputId": "3d9d301f-18a1-4d28-d500-1267fb1fa2fa"
      },
      "execution_count": null,
      "outputs": [
        {
          "output_type": "stream",
          "name": "stdout",
          "text": [
            "72.02\n",
            "73.63\n",
            "68.38\n",
            "74.47\n"
          ]
        }
      ]
    },
    {
      "cell_type": "code",
      "source": [
        "print(Top_uni.nlargest(1))"
      ],
      "metadata": {
        "id": "LvKHfkiLUAEE",
        "colab": {
          "base_uri": "https://localhost:8080/"
        },
        "outputId": "ced2d013-4ef8-475a-a6d0-ae95b8e2ba49"
      },
      "execution_count": null,
      "outputs": [
        {
          "output_type": "stream",
          "name": "stdout",
          "text": [
            "Country\n",
            "Switzerland    78.316667\n",
            "Name: Score, dtype: float64\n"
          ]
        }
      ]
    },
    {
      "cell_type": "code",
      "source": [
        "print(Top_uni.nsmallest(2))"
      ],
      "metadata": {
        "id": "aP-tqjKDVn_x",
        "colab": {
          "base_uri": "https://localhost:8080/"
        },
        "outputId": "e86ed86b-ba51-4a62-f3c3-cd0191ca77a1"
      },
      "execution_count": null,
      "outputs": [
        {
          "output_type": "stream",
          "name": "stdout",
          "text": [
            "Country\n",
            "North Macedonia    65.9\n",
            "Kazakhstan         66.0\n",
            "Name: Score, dtype: float64\n"
          ]
        }
      ]
    },
    {
      "cell_type": "markdown",
      "source": [
        "Based on the average score of the universities, Switzerland has the highest average score and this incidated that Switzerland have more high ranking and high quality universities. Meanwhile North Macedonia and Kazakhstan has the lowest average score."
      ],
      "metadata": {
        "id": "v6ac1Wl-VybU"
      }
    },
    {
      "cell_type": "markdown",
      "source": [
        "##Question 7"
      ],
      "metadata": {
        "id": "UXntcq5_fL46"
      }
    },
    {
      "cell_type": "markdown",
      "source": [
        "We have studied the Ranges, Quartiles and Interquartile range in detail. We can use it to help us in finding the outliers in the university dataset (i.e. those extremely good or bad universities).\n",
        "\n",
        "In order to perform this analysis, we will use the 1.5IQR method that we covered in class. If you forgot the method, please refer to the video.\n"
      ],
      "metadata": {
        "id": "N6yQgkcyfPd3"
      }
    },
    {
      "cell_type": "code",
      "source": [
        "print(uni['Score'].max())\n",
        "print(uni['Score'].min())"
      ],
      "metadata": {
        "colab": {
          "base_uri": "https://localhost:8080/"
        },
        "id": "gkRzzDBGmBbI",
        "outputId": "a74f17b6-818c-41e7-907e-78b09955280d"
      },
      "execution_count": null,
      "outputs": [
        {
          "output_type": "stream",
          "name": "stdout",
          "text": [
            "100.0\n",
            "65.7\n"
          ]
        }
      ]
    },
    {
      "cell_type": "code",
      "source": [
        "uni[\"Score\"].quantile([0.25,0.5,0.75,1])"
      ],
      "metadata": {
        "id": "aEPZdTHfWpWg",
        "colab": {
          "base_uri": "https://localhost:8080/"
        },
        "outputId": "8adf50e2-1676-45e9-afd9-0487b38e7ee9"
      },
      "execution_count": null,
      "outputs": [
        {
          "output_type": "execute_result",
          "data": {
            "text/plain": [
              "0.25     67.7\n",
              "0.50     70.2\n",
              "0.75     74.1\n",
              "1.00    100.0\n",
              "Name: Score, dtype: float64"
            ]
          },
          "metadata": {},
          "execution_count": 68
        }
      ]
    },
    {
      "cell_type": "code",
      "source": [
        "q1, q3 = uni[\"Score\"].quantile([0.25,0.75])"
      ],
      "metadata": {
        "id": "t3-xgEZKW1SE"
      },
      "execution_count": null,
      "outputs": []
    },
    {
      "cell_type": "code",
      "source": [
        "print(q1, q3)"
      ],
      "metadata": {
        "id": "DD_ErZmWW6QA",
        "colab": {
          "base_uri": "https://localhost:8080/"
        },
        "outputId": "007d5aa3-a738-445b-edae-aa4e6c8f3fc1"
      },
      "execution_count": null,
      "outputs": [
        {
          "output_type": "stream",
          "name": "stdout",
          "text": [
            "67.7 74.1\n"
          ]
        }
      ]
    },
    {
      "cell_type": "code",
      "source": [
        "iqr = q3- q1\n",
        "print(\"%.2f\"% iqr)"
      ],
      "metadata": {
        "id": "Iwy7NueJW8Q3",
        "colab": {
          "base_uri": "https://localhost:8080/"
        },
        "outputId": "cecd4790-27cc-4142-cadf-d965892b7f29"
      },
      "execution_count": null,
      "outputs": [
        {
          "output_type": "stream",
          "name": "stdout",
          "text": [
            "6.40\n"
          ]
        }
      ]
    },
    {
      "cell_type": "code",
      "source": [
        "lower_min = q1 - (1.5*iqr)\n",
        "upper_max = q3 + (1.5*iqr)"
      ],
      "metadata": {
        "id": "bbtSCNPzXBB6"
      },
      "execution_count": null,
      "outputs": []
    },
    {
      "cell_type": "code",
      "source": [
        "print(\"Lower expected min of IQR = \", \"%.2f\" % lower_min)\n",
        "print(\"Upper expected max of IQR = \", \"%.2f\" % upper_max)"
      ],
      "metadata": {
        "id": "R6ziVngTXDp3",
        "colab": {
          "base_uri": "https://localhost:8080/"
        },
        "outputId": "3cabdfae-a5ac-48ed-8796-b64b838e4b98"
      },
      "execution_count": null,
      "outputs": [
        {
          "output_type": "stream",
          "name": "stdout",
          "text": [
            "Lower expected min of IQR =  58.10\n",
            "Upper expected max of IQR =  83.70\n"
          ]
        }
      ]
    },
    {
      "cell_type": "code",
      "source": [
        "Outlier_uni = uni[(uni[\"Score\"] > 83.70) | (uni[\"Score\"] < 58.10 )]\n",
        "print(Outlier_uni)"
      ],
      "metadata": {
        "id": "KipwC35lXHNN",
        "colab": {
          "base_uri": "https://localhost:8080/"
        },
        "outputId": "ffed551b-4070-4d9a-fb9b-4c942ac2486c"
      },
      "execution_count": null,
      "outputs": [
        {
          "output_type": "stream",
          "name": "stdout",
          "text": [
            "    World Rank                                      Institution  \\\n",
            "0            1                               Harvard University   \n",
            "1            2            Massachusetts Institute of Technology   \n",
            "2            3                              Stanford University   \n",
            "3            4                          University of Cambridge   \n",
            "4            5                             University of Oxford   \n",
            "..         ...                                              ...   \n",
            "57          58                              Tsinghua University   \n",
            "58          59                                Peking University   \n",
            "59          60                    Humboldt University of Berlin   \n",
            "60          61                                Purdue University   \n",
            "61          62  University of Texas Southwestern Medical Center   \n",
            "\n",
            "           Country  National Rank  Quality of Education Rank  \\\n",
            "0              USA              1                          1   \n",
            "1              USA              2                          4   \n",
            "2              USA              3                         10   \n",
            "3   United Kingdom              1                          3   \n",
            "4   United Kingdom              2                          7   \n",
            "..             ...            ...                        ...   \n",
            "57           China              1                        514   \n",
            "58           China              2                        363   \n",
            "59         Germany              3                         82   \n",
            "60             USA             35                         92   \n",
            "61             USA             36                         35   \n",
            "\n",
            "    Alumni Employment Rank  Quality of Faculty Rank  \\\n",
            "0                        1                        1   \n",
            "1                       12                        2   \n",
            "2                        4                        3   \n",
            "3                       25                        4   \n",
            "4                       27                        9   \n",
            "..                     ...                      ...   \n",
            "57                      76                        0   \n",
            "58                      72                        0   \n",
            "59                       0                       49   \n",
            "60                      89                       67   \n",
            "61                       0                       28   \n",
            "\n",
            "    Research Performance Rank  Score  \n",
            "0                           1  100.0  \n",
            "1                           8   96.7  \n",
            "2                           2   95.1  \n",
            "3                          10   94.1  \n",
            "4                           4   93.3  \n",
            "..                        ...    ...  \n",
            "57                         29   84.0  \n",
            "58                         33   84.0  \n",
            "59                         72   83.9  \n",
            "60                        104   83.8  \n",
            "61                        158   83.8  \n",
            "\n",
            "[62 rows x 9 columns]\n"
          ]
        }
      ]
    },
    {
      "cell_type": "code",
      "source": [
        "Outlier_uni.count()"
      ],
      "metadata": {
        "id": "x4_w5gnhnOur",
        "outputId": "22654f27-9cdd-4998-b1e1-2e9674bf8872",
        "colab": {
          "base_uri": "https://localhost:8080/"
        }
      },
      "execution_count": null,
      "outputs": [
        {
          "output_type": "execute_result",
          "data": {
            "text/plain": [
              "World Rank                   62\n",
              "Institution                  62\n",
              "Country                      62\n",
              "National Rank                62\n",
              "Quality of Education Rank    62\n",
              "Alumni Employment Rank       62\n",
              "Quality of Faculty Rank      62\n",
              "Research Performance Rank    62\n",
              "Score                        62\n",
              "dtype: int64"
            ]
          },
          "metadata": {},
          "execution_count": 75
        }
      ]
    },
    {
      "cell_type": "code",
      "source": [
        "import matplotlib.pyplot as plt"
      ],
      "metadata": {
        "id": "6HLNyN3JPm7a"
      },
      "execution_count": null,
      "outputs": []
    },
    {
      "cell_type": "code",
      "source": [
        "score_outlier = uni.filter([\"Score\"])"
      ],
      "metadata": {
        "id": "3MMPUlohQDre"
      },
      "execution_count": null,
      "outputs": []
    },
    {
      "cell_type": "code",
      "source": [
        "boxplot = score_outlier.boxplot()"
      ],
      "metadata": {
        "id": "J565KfaqPpJQ",
        "colab": {
          "base_uri": "https://localhost:8080/",
          "height": 265
        },
        "outputId": "0f54884d-7eaf-4940-fa1c-8dc1b56e2365"
      },
      "execution_count": null,
      "outputs": [
        {
          "output_type": "display_data",
          "data": {
            "text/plain": [
              "<Figure size 432x288 with 1 Axes>"
            ],
            "image/png": "[encoded data removed]"
          },
          "metadata": {
            "needs_background": "light"
          }
        }
      ]
    }
  ]
}